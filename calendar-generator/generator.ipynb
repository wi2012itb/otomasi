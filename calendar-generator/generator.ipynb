{
 "cells": [
  {
   "cell_type": "code",
   "execution_count": 3,
   "metadata": {},
   "outputs": [],
   "source": [
    "# download .ics from internet\n",
    "\n",
    "loc = 'https://outlook.office365.com/owa/calendar/a8cd4a3215a740d5a707d605dddf9bfa@mahasiswa.itb.ac.id/8274738d46a24821a77e0377f07c071c1511853878465106442/calendar.ics'\n",
    "\n",
    "import requests\n",
    "import os\n",
    "\n",
    "r = requests.get(loc)\n",
    "with open('calendar.ics', 'wb') as f:\n",
    "    f.write(r.content)"
   ]
  },
  {
   "cell_type": "code",
   "execution_count": 4,
   "metadata": {},
   "outputs": [],
   "source": [
    "# function to read .ics file using icalendar\n",
    "\n",
    "from icalendar import Calendar, Event\n",
    "import datetime\n",
    "\n",
    "def read_ics(file):\n",
    "    with open(file, 'rb') as f:\n",
    "        cal = Calendar.from_ical(f.read())\n",
    "    return cal\n",
    "\n",
    "cal = read_ics('calendar.ics')"
   ]
  },
  {
   "cell_type": "code",
   "execution_count": 5,
   "metadata": {},
   "outputs": [
    {
     "name": "stdout",
     "output_type": "stream",
     "text": [
      "[K01] Kuliah 1: Siapakah Kristus? 2024-02-05 13:00:00+07:00 2024-02-05 15:00:00+07:00\n",
      "TVST C\n",
      "\n",
      "\n",
      "\n",
      "[K01] Kuliah 1: Siapakah Kristus? 2024-02-05 15:00:00+07:00 2024-02-05 17:00:00+07:00\n",
      "TVST C\n",
      "\n",
      "\n",
      "\n",
      "[K01] Kuliah 1: Siapakah Kristus? 2024-02-07 07:00:00+07:00 2024-02-07 09:00:00+07:00\n",
      "TVST C\n",
      "\n",
      "\n",
      "\n",
      "[K01] Kuliah 1: Siapakah Kristus? 2024-02-07 11:00:00+07:00 2024-02-07 13:00:00+07:00\n",
      "TVST C\n",
      "\n",
      "\n",
      "\n",
      "[K01] Kuliah 1: Siapakah Kristus? 2024-02-09 07:00:00+07:00 2024-02-09 09:00:00+07:00\n",
      "TVST C\n",
      "\n",
      "\n",
      "\n"
     ]
    }
   ],
   "source": [
    "# list events\n",
    "\n",
    "for event in cal.walk('vevent'):\n",
    "    print(event['summary'], event['dtstart'].dt, event['dtend'].dt)\n",
    "    print(event['location'])\n",
    "    print(event['description'])\n",
    "    print()"
   ]
  },
  {
   "cell_type": "code",
   "execution_count": 6,
   "metadata": {},
   "outputs": [],
   "source": [
    "# set information as pandas dataframe\n",
    "\n",
    "import pandas as pd\n",
    "\n",
    "data = []\n",
    "for event in cal.walk('vevent'):\n",
    "    data.append([event['summary'], event['dtstart'].dt, event['dtend'].dt, event['location'], event['description']])\n",
    "\n",
    "df = pd.DataFrame(data, columns=['summary', 'dtstart', 'dtend', 'location', 'description'])"
   ]
  },
  {
   "cell_type": "code",
   "execution_count": 22,
   "metadata": {},
   "outputs": [],
   "source": [
    "import calendar\n",
    "import pandas as pd\n",
    "\n",
    "md = ''\n",
    "\n",
    "def weekheader():\n",
    "    global md\n",
    "    md += \"| Senin | Selasa | Rabu | Kamis | Jumat | Sabtu | Minggu |\\n\"\n",
    "    md += \"| --- | --- | --- | --- | --- | --- | --- |\\n\"\n",
    "\n",
    "def listdayofweek(month, year, df):\n",
    "    global md\n",
    "    # Create an instance of the calendar.TextCalendar class\n",
    "    cal = calendar.monthcalendar(year, month)\n",
    "    for week in cal:\n",
    "        md += '| '\n",
    "        for day in week:\n",
    "            if day != 0:\n",
    "                date = pd.Timestamp(year, month, day)\n",
    "                events = df[df['dtstart'].dt.date == date.date()]\n",
    "                if not events.empty:\n",
    "                    md += f'{day}'\n",
    "                    md += ' <br>&amp;#10240;<br> '\n",
    "                    for _, event in events.iterrows():\n",
    "                        summary = event['summary']\n",
    "                        start_time = event['dtstart'].time()\n",
    "                        end_time = event['dtend'].time()\n",
    "                        location = event['location']\n",
    "                        md += f'<details><summary>{summary}</summary>Waktu: {start_time} - {end_time}<br>&amp;#10240;Lokasi: {location}</details>'\n",
    "                    md += ' | '\n",
    "                else:\n",
    "                    md += f'{day} <br>&amp;#10240;<br>&amp;#10240;<br>&amp;#10240;<br>&amp;#10240; | '\n",
    "            else:\n",
    "                md += ' <br>&amp;#10240;<br>&amp;#10240;<br>&amp;#10240; | '\n",
    "        md += '\\n'\n",
    "\n",
    "def generate_calendar(month, year, df):\n",
    "    global md\n",
    "    md = ''\n",
    "    weekheader()\n",
    "    listdayofweek(month, year, df)\n",
    "    return md\n"
   ]
  },
  {
   "cell_type": "code",
   "execution_count": 23,
   "metadata": {},
   "outputs": [],
   "source": [
    "#dump to output.md\n",
    "with open('output.md', 'w') as f:\n",
    "    f.write(generate_calendar(2, 2024, df))"
   ]
  }
 ],
 "metadata": {
  "kernelspec": {
   "display_name": "Python 3",
   "language": "python",
   "name": "python3"
  },
  "language_info": {
   "codemirror_mode": {
    "name": "ipython",
    "version": 3
   },
   "file_extension": ".py",
   "mimetype": "text/x-python",
   "name": "python",
   "nbconvert_exporter": "python",
   "pygments_lexer": "ipython3",
   "version": "3.8.12"
  }
 },
 "nbformat": 4,
 "nbformat_minor": 2
}
