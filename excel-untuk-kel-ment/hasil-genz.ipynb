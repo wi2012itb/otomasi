{
 "cells": [
  {
   "cell_type": "code",
   "execution_count": 96,
   "metadata": {},
   "outputs": [],
   "source": [
    "import os, pandas as pd, datetime\n",
    "\n",
    "# ----------load data---------------\n",
    "db = []\n",
    "for filename in os.listdir(os.curdir+'/input'):\n",
    "    data = pd.read_excel(os.curdir+'/input/' + filename)\n",
    "    db.append(data)\n",
    "\n",
    "data = pd.concat(db, ignore_index=True)\n",
    "\n",
    "new_col = ['ID', 'Start', 'End', 'Email', 'Name', 'Nama', 'NIM', 'KelompokMentoring', 'Kumpul', 'Tanggal7MBT', 'Upload7MBT', 'TopikMent', 'UploadMent']\n",
    "data.columns = new_col\n",
    "data.drop(['Email', 'Name'], axis=1, inplace=True)\n",
    "\n",
    "# ----------selector---------------\n",
    "kel = input('Masukkan Kelompok Mentoring tanpa spasi huruf kapital, contoh\\nL18\\nKelompok mentoring: ')\n",
    "print(\"----------------------\\n\")\n",
    "tipe = input('Masukkan Tipe Tugas, 7MBT atau Ment\\nTipe Tugas:')\n",
    "subset = data[data['KelompokMentoring'] == kel]\n",
    "if tipe == '7MBT':\n",
    "    subset = subset[subset['UploadMent'].isnull()]\n",
    "else:\n",
    "    subset = subset[subset['Upload7MBT'].isnull()]\n",
    "\n",
    "# ----------process---------------\n",
    "subset['Late'] = subset['End'] - subset['Tanggal7MBT']\n",
    "subset['Status'] = 'On Time'\n",
    "subset.loc[(subset['Late'] > pd.Timedelta('1 days')) & (subset['Late'] <= pd.Timedelta('7 days')), 'Status'] = '0,5 - telat ' + subset['Late'].astype(str)\n",
    "subset.loc[(subset['Late'] > pd.Timedelta('7 days')), 'Status'] = '0 -tolak ' + subset['Late'].astype(str)\n",
    "# if subset['Late'] is NaT, set Status as 'Cek Manual'\n",
    "subset.loc[subset['Late'].isnull(), 'Status'] = 'Cek Manual'\n",
    "\n",
    "if tipe == '7MBT':\n",
    "    subset = subset[['ID', 'Nama', 'NIM', 'KelompokMentoring', 'Kumpul', 'Tanggal7MBT', 'Upload7MBT', 'Status']]\n",
    "else:\n",
    "    subset = subset[['ID', 'Nama', 'NIM', 'KelompokMentoring', 'Kumpul', 'TopikMent', 'UploadMent', 'Status']]\n",
    "\n",
    "# ----------output---------------\n",
    "now = datetime.datetime.now()\n",
    "timestr = now.strftime('%d%b%Y-%H%M')\n",
    "# mkdir output if not exist\n",
    "if not os.path.exists(os.curdir+'/output'):\n",
    "    os.makedirs(os.curdir+'/output')\n",
    "subset.to_excel(os.curdir+'/output/' + kel + '-' + tipe + '-' + timestr + '.xlsx', index=False)"
   ]
  },
  {
   "cell_type": "code",
   "execution_count": 114,
   "metadata": {},
   "outputs": [],
   "source": [
    "# get current time and date, fix as DDMonthYYYY-HHMM, where Month is 3 letter abbreviation\n",
    "\n",
    " def run_script(self):\n",
    "        import pandas as pd\n",
    "        import datetime\n",
    "\n",
    "        # Get the values from the GUI\n",
    "\n",
    "        output_directory = self.output_directory\n",
    "        files = [self.input_files.item(i).text() for i in range(self.input_files.count())]\n",
    "        kel = self.kel_input.text()\n",
    "        tipe = \"7MBT\" if self.tipe_input.isChecked() else \"Ment\"\n",
    "\n",
    "        # Load data\n",
    "        db = []\n",
    "        for filename in files:\n",
    "            data = pd.read_excel(filename)\n",
    "            db.append(data)\n",
    "\n",
    "        data = pd.concat(db, ignore_index=True)\n",
    "\n",
    "        new_col = ['ID', 'Start', 'End', 'Email', 'Name', 'Nama', 'NIM', 'KelompokMentoring', 'Kumpul', 'Tanggal7MBT', 'Upload7MBT', 'TopikMent', 'UploadMent']\n",
    "        data.columns = new_col\n",
    "        data.drop(['Email', 'Name'], axis=1, inplace=True)\n",
    "\n",
    "        # Selector\n",
    "        subset = data[data['KelompokMentoring'] == kel]\n",
    "        if tipe == '7MBT':\n",
    "            subset = subset[subset['UploadMent'].isnull()]\n",
    "        else:\n",
    "            subset = subset[subset['Upload7MBT'].isnull()]\n",
    "\n",
    "        # Process\n",
    "        subset['Late'] = subset['End'] - subset['Tanggal7MBT']\n",
    "        subset['Status'] = 'On Time'\n",
    "        subset.loc[(subset['Late'] > pd.Timedelta('1 days')) & (subset['Late'] <= pd.Timedelta('7 days')), 'Status'] = '0,5 - telat ' + subset['Late'].astype(str)\n",
    "        subset.loc[(subset['Late'] > pd.Timedelta('7 days')), 'Status'] = '0 -tolak ' + subset['Late'].astype(str)\n",
    "        subset.loc[subset['Late'].isnull(), 'Status'] = 'Cek Manual'\n",
    "\n",
    "        if tipe == '7MBT':\n",
    "            subset = subset[['ID', 'Nama', 'NIM', 'KelompokMentoring', 'Kumpul', 'Tanggal7MBT', 'Upload7MBT', 'Status']]\n",
    "        else:\n",
    "            subset = subset[['ID', 'Nama', 'NIM', 'KelompokMentoring', 'Kumpul', 'TopikMent', 'UploadMent', 'Status']]\n",
    "\n",
    "        # Output\n",
    "        now = datetime.datetime.now()\n",
    "        timestr = now.strftime('%d%b%Y-%H%M')\n",
    "        subset.to_excel(output_directory + kel + '-' + tipe + '-' + timestr + '.xlsx', index=False)\n"
   ]
  },
  {
   "cell_type": "code",
   "execution_count": 115,
   "metadata": {},
   "outputs": [
    {
     "name": "stdout",
     "output_type": "stream",
     "text": [
      "1.21.5\n"
     ]
    }
   ],
   "source": [
    "import numpy as np\n",
    "print(np.__version__)"
   ]
  }
 ],
 "metadata": {
  "kernelspec": {
   "display_name": "base",
   "language": "python",
   "name": "python3"
  },
  "language_info": {
   "codemirror_mode": {
    "name": "ipython",
    "version": 3
   },
   "file_extension": ".py",
   "mimetype": "text/x-python",
   "name": "python",
   "nbconvert_exporter": "python",
   "pygments_lexer": "ipython3",
   "version": "3.8.12"
  }
 },
 "nbformat": 4,
 "nbformat_minor": 2
}
